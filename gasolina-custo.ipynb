{
 "cells": [
  {
   "cell_type": "code",
   "execution_count": 1,
   "id": "91647f60",
   "metadata": {},
   "outputs": [
    {
     "name": "stdout",
     "output_type": "stream",
     "text": [
      "Digite a quilometragem da viagem: 400\n",
      "Digite o consumo de km/litro do veículo: 11\n",
      "Digite o preço da gasolina por litro: 5.39\n",
      "Quilometragem da viagem: 400.00 km\n",
      "Litros necessários: 36.36 litros\n",
      "Custo total: R$196.00\n"
     ]
    }
   ],
   "source": [
    "# Solicitar informações ao usuário\n",
    "quilometragem_viagem = float(input(\"Digite a quilometragem da viagem: \"))\n",
    "consumo_km_litro = float(input(\"Digite o consumo de km/litro do veículo: \"))\n",
    "preco_gasolina_litro = float(input(\"Digite o preço da gasolina por litro: \"))\n",
    "\n",
    "# Calcular o gasto de gasolina\n",
    "litros_necessarios = quilometragem_viagem / consumo_km_litro\n",
    "custo_total = litros_necessarios * preco_gasolina_litro\n",
    "\n",
    "# Exibir os resultados\n",
    "print(f\"Quilometragem da viagem: {quilometragem_viagem:.2f} km\")\n",
    "print(f\"Litros necessários: {litros_necessarios:.2f} litros\")\n",
    "print(f\"Custo total: R${custo_total:.2f}\")\n"
   ]
  },
  {
   "cell_type": "code",
   "execution_count": null,
   "id": "e0f44d37",
   "metadata": {},
   "outputs": [],
   "source": []
  }
 ],
 "metadata": {
  "kernelspec": {
   "display_name": "Python 3 (ipykernel)",
   "language": "python",
   "name": "python3"
  },
  "language_info": {
   "codemirror_mode": {
    "name": "ipython",
    "version": 3
   },
   "file_extension": ".py",
   "mimetype": "text/x-python",
   "name": "python",
   "nbconvert_exporter": "python",
   "pygments_lexer": "ipython3",
   "version": "3.11.4"
  }
 },
 "nbformat": 4,
 "nbformat_minor": 5
}
